{
 "cells": [
  {
   "cell_type": "markdown",
   "id": "654190c8",
   "metadata": {},
   "source": [
    "## Exercici 1\n",
    "Crea un np.array d'una dimensió, que inclogui l'almenys 8 nombres sencers, data type int64. Mostra la dimensió i la forma de la matriu"
   ]
  },
  {
   "cell_type": "code",
   "execution_count": 2,
   "id": "5e341ba4",
   "metadata": {},
   "outputs": [
    {
     "name": "stdout",
     "output_type": "stream",
     "text": [
      "Nombre de dimensions de la matriu: 1\n",
      "Forma de la matriu: (9,)\n"
     ]
    }
   ],
   "source": [
    "import numpy as np\n",
    "\n",
    "matriu = np.array([1, 2, 3, 4, 5, 6, 7, 8, 9], ndmin=1, dtype=np.int64)\n",
    "\n",
    "num_dim_matriu = matriu.ndim\n",
    "print(\"Nombre de dimensions de la matriu: \" + str(num_dim_matriu))\n",
    "\n",
    "forma_matriu = matriu.shape\n",
    "print(\"Forma de la matriu: \" + str(forma_matriu))"
   ]
  },
  {
   "cell_type": "markdown",
   "id": "9afcda82",
   "metadata": {},
   "source": [
    "## Exercici 2\n",
    "De la matriu de l'exercici 1, calcula el valor mitjà dels valors introduïts i resta la mitjana resultant de cada un dels valors de la matriu."
   ]
  },
  {
   "cell_type": "code",
   "execution_count": 132,
   "id": "b3ec34db",
   "metadata": {},
   "outputs": [
    {
     "name": "stdout",
     "output_type": "stream",
     "text": [
      "Mitjana de la matriu: 5.0\n",
      "[-4. -3. -2. -1.  0.  1.  2.  3.  4.]\n",
      "[-9. -8. -7. -6. -5. -4. -3. -2. -1.]\n"
     ]
    }
   ],
   "source": [
    "# Calcular la mitjana o valor mitjà\n",
    "mitjana_matriu = matriu.sum()/matriu.size\n",
    "print(\"Mitjana de la matriu: \" + str(mitjana_matriu))\n",
    "\n",
    "\n",
    "# Restar la mitjana dels valors de la matriu\n",
    "\n",
    "# Alternativa 1\n",
    "matriu = np.array([num - mitjana_matriu for num in matriu])\n",
    "print(matriu)\n",
    "\n",
    "# Alternativa 2\n",
    "for i in range(matriu.size):\n",
    "    matriu[i] -= mitjana_matriu\n",
    "\n",
    "print(matriu)"
   ]
  },
  {
   "cell_type": "markdown",
   "id": "11a8f81d",
   "metadata": {},
   "source": [
    "## Exercici 3\n",
    "Crea una matriu bidimensional amb una forma de 5 x 5. Extreu el valor màxim de la matriu, i els valors màxims de cadascun dels seus eixos."
   ]
  },
  {
   "cell_type": "code",
   "execution_count": 204,
   "id": "028b6983",
   "metadata": {},
   "outputs": [
    {
     "name": "stdout",
     "output_type": "stream",
     "text": [
      "[[6 1 1 3 2]\n",
      " [1 4 4 4 1]\n",
      " [0 5 3 1 1]\n",
      " [3 0 3 5 3]\n",
      " [6 0 3 2 2]]\n",
      "Nombre de dimensions de la matriu: 2\n",
      "Valor màxim de la matriu: 6\n",
      "Valor màxim del eix 0: [6 5 4 5 3]\n",
      "Valor màxim del eix 1: [6 4 5 5 6]\n"
     ]
    }
   ],
   "source": [
    "matriu = np.random.randint(0, 7, 5*5).reshape(5, 5)\n",
    "print(matriu)\n",
    "\n",
    "num_dim_matriu = matriu.ndim\n",
    "print(\"Nombre de dimensions de la matriu: \" + str(num_dim_matriu))\n",
    "\n",
    "max_valor_matriu = np.amax(matriu)\n",
    "print(\"Valor màxim de la matriu: \" + str(max_valor_matriu))\n",
    "\n",
    "max_valor_eix0 = np.amax(matriu, axis=0)\n",
    "print(\"Valor màxim del eix 0: \" + str(max_valor_eix0))\n",
    "\n",
    "max_valor_eix1 = np.amax(matriu, axis=1)\n",
    "print(\"Valor màxim del eix 1: \" + str(max_valor_eix1))"
   ]
  },
  {
   "cell_type": "markdown",
   "id": "3433a15e",
   "metadata": {},
   "source": [
    "## Exercici 4\n",
    "Mostreu-me amb exemples de diferents matrius, la regla fonamental de Broadcasting que diu : \"les matrius es poden transmetre / broadcast si les seves dimensions coincideixen o si una de les matrius té una mida d'1\"."
   ]
  },
  {
   "cell_type": "code",
   "execution_count": 47,
   "id": "d969e0d9",
   "metadata": {},
   "outputs": [
    {
     "name": "stdout",
     "output_type": "stream",
     "text": [
      "Dimensions coincideixen\n",
      "[10 11  7]\n",
      "[[6 6 6]\n",
      " [7 7 7]\n",
      " [8 8 8]\n",
      " [9 9 9]]\n",
      "Una de las matrius té una mida de 1\n",
      "[11  8  7]\n",
      "[[6 6 6]\n",
      " [7 7 7]\n",
      " [8 8 8]\n",
      " [9 9 9]]\n"
     ]
    },
    {
     "ename": "ValueError",
     "evalue": "operands could not be broadcast together with shapes (4,3) (3,1) ",
     "output_type": "error",
     "traceback": [
      "\u001b[0;31m---------------------------------------------------------------------------\u001b[0m",
      "\u001b[0;31mValueError\u001b[0m                                Traceback (most recent call last)",
      "\u001b[0;32m/var/folders/5j/t9djkx8d4pl6qlxm40r48rz40000gp/T/ipykernel_1220/3398026368.py\u001b[0m in \u001b[0;36m<module>\u001b[0;34m\u001b[0m\n\u001b[1;32m     52\u001b[0m            [4, 4, 4]])\n\u001b[1;32m     53\u001b[0m \u001b[0mmatriu_b\u001b[0m \u001b[0;34m=\u001b[0m \u001b[0mnp\u001b[0m\u001b[0;34m.\u001b[0m\u001b[0marray\u001b[0m\u001b[0;34m(\u001b[0m\u001b[0;34m[\u001b[0m\u001b[0;34m[\u001b[0m\u001b[0;36m5\u001b[0m\u001b[0;34m]\u001b[0m\u001b[0;34m,\u001b[0m \u001b[0;34m[\u001b[0m\u001b[0;36m5\u001b[0m\u001b[0;34m]\u001b[0m\u001b[0;34m,\u001b[0m \u001b[0;34m[\u001b[0m\u001b[0;36m5\u001b[0m\u001b[0;34m]\u001b[0m\u001b[0;34m]\u001b[0m\u001b[0;34m)\u001b[0m\u001b[0;34m\u001b[0m\u001b[0;34m\u001b[0m\u001b[0m\n\u001b[0;32m---> 54\u001b[0;31m \u001b[0msuma_a_b\u001b[0m \u001b[0;34m=\u001b[0m \u001b[0mmatriu_a\u001b[0m \u001b[0;34m+\u001b[0m \u001b[0mmatriu_b\u001b[0m\u001b[0;34m\u001b[0m\u001b[0;34m\u001b[0m\u001b[0m\n\u001b[0m\u001b[1;32m     55\u001b[0m \u001b[0mprint\u001b[0m\u001b[0;34m(\u001b[0m\u001b[0msuma_a_b\u001b[0m\u001b[0;34m)\u001b[0m\u001b[0;34m\u001b[0m\u001b[0;34m\u001b[0m\u001b[0m\n",
      "\u001b[0;31mValueError\u001b[0m: operands could not be broadcast together with shapes (4,3) (3,1) "
     ]
    }
   ],
   "source": [
    "# Dimensions coincideixen\n",
    "print(\"Dimensions coincideixen\")\n",
    "matriu_a = np.array([7, 8, 4])\n",
    "matriu_b = np.array([3, 3, 3])\n",
    "suma_a_b = matriu_a + matriu_b\n",
    "print(suma_a_b)\n",
    "\n",
    "matriu_a = np.array([[1, 1, 1],\n",
    "           [2, 2, 2],\n",
    "           [3, 3, 3],\n",
    "           [4, 4, 4]])\n",
    "matriu_b = np.array([5, 5, 5])\n",
    "suma_a_b = matriu_a + matriu_b\n",
    "print(suma_a_b)\n",
    "\n",
    "\n",
    "\n",
    "# Una de las matrius té una mida de 1\n",
    "print(\"Una de las matrius té una mida de 1\")\n",
    "matriu_a = np.array([9, 6, 5])\n",
    "matriu_b = np.array([2])\n",
    "suma_a_b = matriu_a + matriu_b\n",
    "print(suma_a_b)\n",
    "\n",
    "matriu_a = np.array([[1, 1, 1],\n",
    "           [2, 2, 2],\n",
    "           [3, 3, 3],\n",
    "           [4, 4, 4]])\n",
    "matriu_b = np.array([5])\n",
    "suma_a_b = matriu_a + matriu_b\n",
    "print(suma_a_b)\n",
    "\n",
    "\n",
    "\n",
    "# Dimensions NO coincideixen\n",
    "matriu_a = np.array([7, 8, 4])\n",
    "matriu_b = np.array([3, 3])\n",
    "suma_a_b = matriu_a + matriu_b\n",
    "print(suma_a_b)\n",
    "\n",
    "matriu_a = np.array([[1, 1, 1],\n",
    "           [2, 2, 2],\n",
    "           [3, 3, 3],\n",
    "           [4, 4, 4]])\n",
    "matriu_b = np.array([5, 5, 5, 5])\n",
    "suma_a_b = matriu_a + matriu_b\n",
    "print(suma_a_b)\n",
    "\n",
    "matriu_a = np.array([[1, 1, 1],\n",
    "           [2, 2, 2],\n",
    "           [3, 3, 3],\n",
    "           [4, 4, 4]])\n",
    "matriu_b = np.array([[5], [5], [5]])\n",
    "suma_a_b = matriu_a + matriu_b\n",
    "print(suma_a_b)"
   ]
  },
  {
   "cell_type": "markdown",
   "id": "a2e51fd4",
   "metadata": {},
   "source": [
    "## Exercici 5\n",
    "Utilitza la Indexació per extreure els valors d'una columna i una fila de la matriu. I suma els seus valors."
   ]
  },
  {
   "cell_type": "code",
   "execution_count": 160,
   "id": "d8dc711c",
   "metadata": {},
   "outputs": [
    {
     "name": "stdout",
     "output_type": "stream",
     "text": [
      "[2 2 2]\n",
      "[1 2 3]\n",
      "[3 4 5]\n",
      "[2 2 2]\n",
      "[1 2 3]\n",
      "[3 4 5]\n"
     ]
    }
   ],
   "source": [
    "# Con mismo número de filas que de columnas\n",
    "matriu = np.array([[1, 1, 1], [2, 2, 2], [3, 3, 3]])\n",
    "\n",
    "valors_fila2 = matriu[1]\n",
    "print(valors_fila1)\n",
    "\n",
    "valors_col3 = matriu[ : , 2]\n",
    "print(valors_col3)\n",
    "\n",
    "suma_valors = valors_fila2 + valors_col3\n",
    "print(suma_valors)\n",
    "\n",
    "\n",
    "# Con distinto número de filas que de columnas\n",
    "matriu = np.array([[1, 1, 1], [2, 2, 2], [3, 3, 3], [4, 4, 4]])\n",
    "\n",
    "valors_fila2 = matriu[1]\n",
    "print(valors_fila1)\n",
    "\n",
    "valors_col3 = matriu[ :3 , 2]\n",
    "print(valors_col3)\n",
    "\n",
    "suma_valors = valors_fila2 + valors_col3\n",
    "print(suma_valors)"
   ]
  },
  {
   "cell_type": "markdown",
   "id": "f1437365",
   "metadata": {},
   "source": [
    "## Exercici 6\n",
    "Mask la matriu anterior, realitzeu un càlcul booleà vectoritzat, agafant cada element i comprovant si es divideix uniformement per quatre.\n",
    "Això retorna una matriu de mask de la mateixa forma amb els resultats elementals del càlcul."
   ]
  },
  {
   "cell_type": "code",
   "execution_count": 3,
   "id": "13622287",
   "metadata": {},
   "outputs": [
    {
     "name": "stdout",
     "output_type": "stream",
     "text": [
      "[[False False False]\n",
      " [False False False]\n",
      " [False False False]\n",
      " [ True  True  True]]\n"
     ]
    }
   ],
   "source": [
    "matriu = np.array([[1, 1, 1], [2, 2, 2], [3, 3, 3], [4, 4, 4]])\n",
    "\n",
    "mask = matriu % 4 == 0\n",
    "print(mask)"
   ]
  },
  {
   "cell_type": "markdown",
   "id": "a6410bd5",
   "metadata": {},
   "source": [
    "## Exercici 7\n",
    "A continuació, utilitzeu aquesta màscara per indexar a la matriu de números original. Això fa que la matriu perdi la seva forma original, reduint-la a una dimensió, però encara obteniu les dades que esteu cercant."
   ]
  },
  {
   "cell_type": "code",
   "execution_count": 4,
   "id": "308380cf",
   "metadata": {},
   "outputs": [
    {
     "name": "stdout",
     "output_type": "stream",
     "text": [
      "[4 4 4]\n"
     ]
    }
   ],
   "source": [
    "multiples4_matriu = matriu[mask]\n",
    "print(multiples4_matriu)"
   ]
  },
  {
   "cell_type": "markdown",
   "id": "0da9664b",
   "metadata": {},
   "source": [
    "## Exercici 8\n",
    "Carregareu qualsevol imatge (jpg, png ..) amb Matplotlib. adoneu-vos que les imatges RGB (Red, Green, Blue) són realment només amplades × alçades × 3 matrius (tres canals Vermell, Verd i Blau), una per cada color de nombres enters int8, manipuleu aquests bytes i torneu a utilitzar Matplotlib per desar la imatge modificada un cop hàgiu acabat.\n",
    "\n",
    "Ajuda:Importeu, import matplotlib.image as mpimg. estudieu el metodde mpimg.imread(()\n",
    "\n",
    "Mostreu-me a veure què passa quan eliminem el canal G Verd o B Blau. Hauries d'utilitzar la indexació per seleccionar el canal que voleu anul·lar.\n",
    "\n",
    "Utilitzar el mètode, mpimg.imsave () de la llibreria importada, per guardar les imatges modificades i que haureu de pujar al vostre repositori a github."
   ]
  },
  {
   "cell_type": "code",
   "execution_count": 43,
   "id": "6bbd77c8",
   "metadata": {},
   "outputs": [
    {
     "data": {
      "text/plain": [
       "<matplotlib.image.AxesImage at 0x7fb07d186be0>"
      ]
     },
     "execution_count": 43,
     "metadata": {},
     "output_type": "execute_result"
    },
    {
     "data": {
      "image/png": "[encoded data removed]",
      "text/plain": [
       "<Figure size 432x288 with 1 Axes>"
      ]
     },
     "metadata": {
      "needs_background": "light"
     },
     "output_type": "display_data"
    }
   ],
   "source": [
    "import matplotlib_inline\n",
    "import matplotlib.pyplot as plt\n",
    "import matplotlib.image as mpimg\n",
    "from PIL import Image\n",
    "\n",
    "imagen = mpimg.imread('fades.png')\n",
    "\n",
    "# Index de colors: 0 Vermell, 1 Verd, 2 Blau\n",
    "\n",
    "# Eliminem G Verd\n",
    "imagen[:,:,1] = np.zeros([imagen.shape[0], imagen.shape[1]])\n",
    "mpimg.imsave ('fades_senseVerde.png', imagen) \n",
    "\n",
    "# Eliminem B Blau\n",
    "imagen[:,:,2] = np.zeros([imagen.shape[0], imagen.shape[1]]) \n",
    "mpimg.imsave ('fades_senseBlau.png', imagen)"
   ]
  },
  {
   "cell_type": "code",
   "execution_count": null,
   "id": "8bd08e42",
   "metadata": {},
   "outputs": [],
   "source": []
  },
  {
   "cell_type": "code",
   "execution_count": null,
   "id": "9b6aa81a",
   "metadata": {},
   "outputs": [],
   "source": []
  }
 ],
 "metadata": {
  "kernelspec": {
   "display_name": "Python 3 (ipykernel)",
   "language": "python",
   "name": "python3"
  },
  "language_info": {
   "codemirror_mode": {
    "name": "ipython",
    "version": 3
   },
   "file_extension": ".py",
   "mimetype": "text/x-python",
   "name": "python",
   "nbconvert_exporter": "python",
   "pygments_lexer": "ipython3",
   "version": "3.9.7"
  }
 },
 "nbformat": 4,
 "nbformat_minor": 5
}
